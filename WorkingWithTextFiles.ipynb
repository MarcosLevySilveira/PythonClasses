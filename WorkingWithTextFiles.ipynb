{
  "nbformat": 4,
  "nbformat_minor": 0,
  "metadata": {
    "colab": {
      "provenance": [],
      "authorship_tag": "ABX9TyMINsVTh+E4HjdlyxxBbJiY",
      "include_colab_link": true
    },
    "kernelspec": {
      "name": "python3",
      "display_name": "Python 3"
    },
    "language_info": {
      "name": "python"
    }
  },
  "cells": [
    {
      "cell_type": "markdown",
      "metadata": {
        "id": "view-in-github",
        "colab_type": "text"
      },
      "source": [
        "<a href=\"https://colab.research.google.com/github/MarcosLevySilveira/PythonClasses/blob/main/WorkingWithTextFiles.ipynb\" target=\"_parent\"><img src=\"https://colab.research.google.com/assets/colab-badge.svg\" alt=\"Open In Colab\"/></a>"
      ]
    },
    {
      "cell_type": "code",
      "execution_count": 1,
      "metadata": {
        "id": "TwxBC4B1YBCh"
      },
      "outputs": [],
      "source": [
        "file = open(\"newFile2.txt\", \"w\")"
      ]
    },
    {
      "cell_type": "code",
      "source": [
        "file.write(' First Line/n Second Line')\n",
        "file.close()"
      ],
      "metadata": {
        "id": "RybHFbfXYhm8"
      },
      "execution_count": 2,
      "outputs": []
    },
    {
      "cell_type": "code",
      "source": [
        "file = open(\"newFile2.txt\", \"r\")\n",
        "text = file.read()\n",
        "print(text)"
      ],
      "metadata": {
        "colab": {
          "base_uri": "https://localhost:8080/"
        },
        "id": "jfvkMFL2Y3BI",
        "outputId": "0e507272-eb27-438c-f992-211bb8777a76"
      },
      "execution_count": 3,
      "outputs": [
        {
          "output_type": "stream",
          "name": "stdout",
          "text": [
            " First Line/n Second Line\n"
          ]
        }
      ]
    },
    {
      "cell_type": "code",
      "source": [
        "for line in file:\n",
        "  print(line)"
      ],
      "metadata": {
        "id": "lTmTV4m4ZA3w"
      },
      "execution_count": 4,
      "outputs": []
    },
    {
      "cell_type": "code",
      "source": [
        "f = open(\"newFile2.txt\", \"w\")\n",
        "f.seek(0)\n",
        "f.write('textToWrite')\n",
        "f.truncate()\n",
        "f.close()"
      ],
      "metadata": {
        "id": "K7IIUDiYZHyb"
      },
      "execution_count": 5,
      "outputs": []
    },
    {
      "cell_type": "code",
      "source": [
        "mylist = [\"apple\", \"banana\", \"cherry\"]"
      ],
      "metadata": {
        "id": "KAyJoEf0ZlOo"
      },
      "execution_count": 6,
      "outputs": []
    },
    {
      "cell_type": "code",
      "source": [
        "example=[1,2,10]\n",
        "example"
      ],
      "metadata": {
        "colab": {
          "base_uri": "https://localhost:8080/"
        },
        "id": "Q4vZeoimZuBi",
        "outputId": "ade929e6-6d16-489a-df5a-5e3d03c3064e"
      },
      "execution_count": 7,
      "outputs": [
        {
          "output_type": "execute_result",
          "data": {
            "text/plain": [
              "[1, 2, 10]"
            ]
          },
          "metadata": {},
          "execution_count": 7
        }
      ]
    }
  ]
}