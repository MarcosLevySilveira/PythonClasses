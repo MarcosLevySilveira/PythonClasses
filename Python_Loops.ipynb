{
  "nbformat": 4,
  "nbformat_minor": 0,
  "metadata": {
    "colab": {
      "provenance": [],
      "authorship_tag": "ABX9TyNcNxXQiFAYH/c7V0B+h6BO",
      "include_colab_link": true
    },
    "kernelspec": {
      "name": "python3",
      "display_name": "Python 3"
    },
    "language_info": {
      "name": "python"
    }
  },
  "cells": [
    {
      "cell_type": "markdown",
      "metadata": {
        "id": "view-in-github",
        "colab_type": "text"
      },
      "source": [
        "<a href=\"https://colab.research.google.com/github/MarcosLevySilveira/PythonClasses/blob/main/Python_Loops.ipynb\" target=\"_parent\"><img src=\"https://colab.research.google.com/assets/colab-badge.svg\" alt=\"Open In Colab\"/></a>"
      ]
    },
    {
      "cell_type": "code",
      "execution_count": null,
      "metadata": {
        "colab": {
          "base_uri": "https://localhost:8080/"
        },
        "id": "KReqC5mZUjnZ",
        "outputId": "257ffa2e-633d-4785-8fc5-99742bc63a75"
      },
      "outputs": [
        {
          "output_type": "stream",
          "name": "stdout",
          "text": [
            "0\n",
            "1\n",
            "2\n",
            "3\n"
          ]
        }
      ],
      "source": [
        "for count in range(4):\n",
        "  print (count)"
      ]
    },
    {
      "cell_type": "code",
      "source": [
        "range(1,4)"
      ],
      "metadata": {
        "colab": {
          "base_uri": "https://localhost:8080/"
        },
        "id": "2GYCjo82XsaJ",
        "outputId": "ccc5d586-1bb5-4758-a5a6-12d781d01868"
      },
      "execution_count": null,
      "outputs": [
        {
          "output_type": "execute_result",
          "data": {
            "text/plain": [
              "range(1, 4)"
            ]
          },
          "metadata": {},
          "execution_count": 4
        }
      ]
    },
    {
      "cell_type": "code",
      "source": [
        "range(2,10,2)"
      ],
      "metadata": {
        "colab": {
          "base_uri": "https://localhost:8080/"
        },
        "id": "Fe91xCskXvc8",
        "outputId": "a121ca97-1865-4899-fdf8-d4bbb873397d"
      },
      "execution_count": null,
      "outputs": [
        {
          "output_type": "execute_result",
          "data": {
            "text/plain": [
              "range(2, 10, 2)"
            ]
          },
          "metadata": {},
          "execution_count": 5
        }
      ]
    },
    {
      "cell_type": "code",
      "source": [
        "for count in range(2,10,2):\n",
        "  print (count)"
      ],
      "metadata": {
        "colab": {
          "base_uri": "https://localhost:8080/"
        },
        "id": "5xp0gUezYNo-",
        "outputId": "8ecb3aa7-b530-4948-99db-143a72235e29"
      },
      "execution_count": null,
      "outputs": [
        {
          "output_type": "stream",
          "name": "stdout",
          "text": [
            "2\n",
            "4\n",
            "6\n",
            "8\n"
          ]
        }
      ]
    },
    {
      "cell_type": "code",
      "source": [],
      "metadata": {
        "id": "Xbnu3Sb9vVhc"
      },
      "execution_count": null,
      "outputs": []
    },
    {
      "cell_type": "code",
      "source": [
        "for count in range(10,0,-1):\n",
        "  print (count)"
      ],
      "metadata": {
        "colab": {
          "base_uri": "https://localhost:8080/"
        },
        "id": "ibHflsycYUbS",
        "outputId": "d01159ba-ca5b-456f-8d92-b0c0ea6467e5"
      },
      "execution_count": null,
      "outputs": [
        {
          "output_type": "stream",
          "name": "stdout",
          "text": [
            "10\n",
            "9\n",
            "8\n",
            "7\n",
            "6\n",
            "5\n",
            "4\n",
            "3\n",
            "2\n",
            "1\n"
          ]
        }
      ]
    },
    {
      "cell_type": "code",
      "source": [
        "for letter in \"Hello!\":\n",
        "  print(letter,end = \" \")"
      ],
      "metadata": {
        "colab": {
          "base_uri": "https://localhost:8080/"
        },
        "id": "DbBkZrE9aYOa",
        "outputId": "ab5e159e-4fc1-4616-e1d0-03f3714df1a0"
      },
      "execution_count": null,
      "outputs": [
        {
          "output_type": "stream",
          "name": "stdout",
          "text": [
            "H e l l o ! "
          ]
        }
      ]
    },
    {
      "cell_type": "code",
      "source": [
        "for count in range (1,30,2):\n",
        "  print (count)"
      ],
      "metadata": {
        "colab": {
          "base_uri": "https://localhost:8080/"
        },
        "id": "LGuOeBwWbJKi",
        "outputId": "7ee226eb-6a26-481f-9f10-39a3a18f0b43"
      },
      "execution_count": null,
      "outputs": [
        {
          "output_type": "stream",
          "name": "stdout",
          "text": [
            "1\n",
            "3\n",
            "5\n",
            "7\n",
            "9\n",
            "11\n",
            "13\n",
            "15\n",
            "17\n",
            "19\n",
            "21\n",
            "23\n",
            "25\n",
            "27\n",
            "29\n"
          ]
        }
      ]
    },
    {
      "cell_type": "code",
      "source": [
        "for count in range (0,10,2):\n",
        "  print (count)"
      ],
      "metadata": {
        "colab": {
          "base_uri": "https://localhost:8080/"
        },
        "id": "Q_gEt3bdbV0c",
        "outputId": "70468362-35ae-4d03-f621-836d34cd0ede"
      },
      "execution_count": null,
      "outputs": [
        {
          "output_type": "stream",
          "name": "stdout",
          "text": [
            "0\n",
            "2\n",
            "4\n",
            "6\n",
            "8\n"
          ]
        }
      ]
    },
    {
      "cell_type": "code",
      "source": [
        "number = 10\n",
        "if number>0:\n",
        "  print('number is positive')\n",
        "\n",
        "print('the if statement is easy')"
      ],
      "metadata": {
        "colab": {
          "base_uri": "https://localhost:8080/"
        },
        "id": "7pN2vO3ygI3P",
        "outputId": "92e71e39-8b45-44bb-f81b-6b0529709ac8"
      },
      "execution_count": null,
      "outputs": [
        {
          "output_type": "stream",
          "name": "stdout",
          "text": [
            "number is positive\n",
            "the if statement is easy\n"
          ]
        }
      ]
    },
    {
      "cell_type": "code",
      "source": [
        "number = -10\n",
        "if number<0:\n",
        "  print('number is negative')"
      ],
      "metadata": {
        "colab": {
          "base_uri": "https://localhost:8080/"
        },
        "id": "AvfkE4Igg5JX",
        "outputId": "dec40223-1818-41ef-859c-97d7a61b6bf9"
      },
      "execution_count": null,
      "outputs": [
        {
          "output_type": "stream",
          "name": "stdout",
          "text": [
            "number is negative\n"
          ]
        }
      ]
    },
    {
      "cell_type": "code",
      "source": [
        "number = 5\n",
        "if number>0:\n",
        "  print('number is positive')\n",
        "else:\n",
        "  print('it is a negative number')"
      ],
      "metadata": {
        "colab": {
          "base_uri": "https://localhost:8080/"
        },
        "id": "pS-b0WhahexL",
        "outputId": "618f8e46-a0c5-4a4a-d398-798c91bd43b7"
      },
      "execution_count": null,
      "outputs": [
        {
          "output_type": "stream",
          "name": "stdout",
          "text": [
            "number is positive\n"
          ]
        }
      ]
    },
    {
      "cell_type": "code",
      "source": [
        "number = 0\n",
        "\n",
        "if number > 0:\n",
        "  print ('positive number')\n",
        "\n",
        "elif number == 0:\n",
        "  print('zero')\n",
        "else:\n",
        "  print('negative number')"
      ],
      "metadata": {
        "colab": {
          "base_uri": "https://localhost:8080/"
        },
        "id": "u-KFy-H4h86U",
        "outputId": "03a18393-5ced-4675-a76c-93aebc21a676"
      },
      "execution_count": null,
      "outputs": [
        {
          "output_type": "stream",
          "name": "stdout",
          "text": [
            "zero\n"
          ]
        }
      ]
    },
    {
      "cell_type": "code",
      "source": [
        "number = int(input(\"Enter numeric grade: \"))\n",
        "if number > 89:\n",
        "  letter = 'A'\n",
        "elif number >79:\n",
        "  letter = 'B'\n",
        "elif number > 69:\n",
        "  letter = 'C'\n",
        "else:\n",
        "  letter = 'F'\n",
        "print (\"The letter grade is\", letter)"
      ],
      "metadata": {
        "colab": {
          "base_uri": "https://localhost:8080/"
        },
        "id": "gQ1JFVnFja_T",
        "outputId": "13157f84-4265-45a4-f701-c2b1df39f00c"
      },
      "execution_count": 27,
      "outputs": [
        {
          "output_type": "stream",
          "name": "stdout",
          "text": [
            "Enter numeric grade: 79\n",
            "The letter grade is C\n"
          ]
        }
      ]
    },
    {
      "cell_type": "code",
      "source": [
        "number = int(input(\"Enter the numeric grade: \"))\n",
        "if number > 100 or number < 0:\n",
        "  print(\"Error: grade must be between 100 and 0\")\n",
        "elif number > 89:\n",
        "  letter = 'A'\n",
        "  print (\"The letter grade is\", letter)\n",
        "elif number >79:\n",
        "  letter = 'B'\n",
        "  print (\"The letter grade is\", letter)\n",
        "elif number > 69:\n",
        "  letter = 'C'\n",
        "  print (\"The letter grade is\", letter)\n",
        "else:\n",
        "  letter = 'F'\n",
        "  print (\"The letter grade is\", letter)"
      ],
      "metadata": {
        "colab": {
          "base_uri": "https://localhost:8080/"
        },
        "id": "8UX0FNCKlpY5",
        "outputId": "ea3dba98-a208-4bb9-975b-a72b606ec73c"
      },
      "execution_count": 43,
      "outputs": [
        {
          "output_type": "stream",
          "name": "stdout",
          "text": [
            "Enter the numeric grade: 101\n",
            "Error: grade must be between 100 and 0\n"
          ]
        }
      ]
    },
    {
      "cell_type": "code",
      "source": [
        "number = int(input(\"Enter the numeric grade: \"))\n",
        "if number >= 0 and number <= 100:\n",
        "  print(\"Enter grade\")\n",
        "elif number > 89:\n",
        "  letter = 'A'\n",
        "  print (\"The letter grade is\", letter)\n",
        "elif number >79:\n",
        "  letter = 'B'\n",
        "  print (\"The letter grade is\", letter)\n",
        "elif number > 69:\n",
        "  letter = 'C'\n",
        "  print (\"The letter grade is\", letter)\n",
        "else:\n",
        "  letter = 'F'\n",
        "  print(\"The letter grade is\", letter)"
      ],
      "metadata": {
        "colab": {
          "base_uri": "https://localhost:8080/"
        },
        "id": "at7L8BP0nBX4",
        "outputId": "6fbd29b1-1cb5-4c99-cafb-9eb5a8113a59"
      },
      "execution_count": 45,
      "outputs": [
        {
          "output_type": "stream",
          "name": "stdout",
          "text": [
            "Enter the numeric grade: 50\n",
            "Enter grade\n"
          ]
        }
      ]
    },
    {
      "cell_type": "code",
      "source": [
        "total = 0\n",
        "\n",
        "number = int(input(\"Enter a number: \"))\n",
        "\n",
        "while number !=0:\n",
        "    total += number\n",
        "    number = int(input(\"Enter a number: \"))\n",
        "\n",
        "print('total =', total)"
      ],
      "metadata": {
        "colab": {
          "base_uri": "https://localhost:8080/"
        },
        "id": "zC_0QmEUpiS3",
        "outputId": "eaeedc93-3020-407e-cdc4-43943c4cae96"
      },
      "execution_count": 46,
      "outputs": [
        {
          "output_type": "stream",
          "name": "stdout",
          "text": [
            "Enter a number: 23\n",
            "Enter a number: 67\n",
            "Enter a number: 0\n",
            "total = 90\n"
          ]
        }
      ]
    },
    {
      "cell_type": "code",
      "source": [
        "theSum = 0\n",
        "for count in range(1,10000001):\n",
        "  theSum += count\n",
        "print(theSum)"
      ],
      "metadata": {
        "colab": {
          "base_uri": "https://localhost:8080/"
        },
        "id": "eZgHsJSYqqfJ",
        "outputId": "6da0501d-23a4-42b3-a193-cb64c0979d08"
      },
      "execution_count": 47,
      "outputs": [
        {
          "output_type": "stream",
          "name": "stdout",
          "text": [
            "50000005000000\n"
          ]
        }
      ]
    },
    {
      "cell_type": "code",
      "source": [
        "myString = \"Hi there!\"\n",
        "myString[3]\n",
        "myString[3:8]\n",
        "myString[5:len(myString)]"
      ],
      "metadata": {
        "colab": {
          "base_uri": "https://localhost:8080/",
          "height": 36
        },
        "id": "nUEYZ8b4q44O",
        "outputId": "405bc016-d1e5-48de-a2cd-9d876118af47"
      },
      "execution_count": 50,
      "outputs": [
        {
          "output_type": "execute_result",
          "data": {
            "text/plain": [
              "'ere!'"
            ],
            "application/vnd.google.colaboratory.intrinsic+json": {
              "type": "string"
            }
          },
          "metadata": {},
          "execution_count": 50
        }
      ]
    },
    {
      "cell_type": "code",
      "source": [
        "i = 20\n",
        "n = 10\n",
        "\n",
        "while i>=n:\n",
        "  print(i)\n",
        "  i = i-1"
      ],
      "metadata": {
        "colab": {
          "base_uri": "https://localhost:8080/"
        },
        "id": "tXdpw-a_riwS",
        "outputId": "09660726-3927-49f6-a84f-d3c674cfbfc7"
      },
      "execution_count": 51,
      "outputs": [
        {
          "output_type": "stream",
          "name": "stdout",
          "text": [
            "20\n",
            "19\n",
            "18\n",
            "17\n",
            "16\n",
            "15\n",
            "14\n",
            "13\n",
            "12\n",
            "11\n",
            "10\n"
          ]
        }
      ]
    },
    {
      "cell_type": "code",
      "source": [
        "name = \"myfile.txt\"\n",
        "name[0:]\n",
        "name[0:1]\n",
        "name[0:2]\n",
        "name[:len(name)]\n",
        "name[-3:]\n",
        "name[2:6]"
      ],
      "metadata": {
        "colab": {
          "base_uri": "https://localhost:8080/",
          "height": 36
        },
        "id": "5k74aMmQsRQx",
        "outputId": "b494b310-9702-4756-f1e8-84eb89cef528"
      },
      "execution_count": 53,
      "outputs": [
        {
          "output_type": "execute_result",
          "data": {
            "text/plain": [
              "'file'"
            ],
            "application/vnd.google.colaboratory.intrinsic+json": {
              "type": "string"
            }
          },
          "metadata": {},
          "execution_count": 53
        }
      ]
    },
    {
      "cell_type": "code",
      "source": [
        "fileName = \"test.exe\"\n",
        "\".exe\" in fileName"
      ],
      "metadata": {
        "colab": {
          "base_uri": "https://localhost:8080/"
        },
        "id": "h_HGsYyDtMNB",
        "outputId": "6ddd5c62-28f1-4252-cf50-74dfcb6cf5e3"
      },
      "execution_count": 58,
      "outputs": [
        {
          "output_type": "execute_result",
          "data": {
            "text/plain": [
              "True"
            ]
          },
          "metadata": {},
          "execution_count": 58
        }
      ]
    },
    {
      "cell_type": "code",
      "source": [
        "fileName = \"test.exe\"\n",
        "\".txt\" in fileName"
      ],
      "metadata": {
        "colab": {
          "base_uri": "https://localhost:8080/"
        },
        "id": "--gpcrWbtZzj",
        "outputId": "933dad41-f657-4df8-a885-949564ccd020"
      },
      "execution_count": 59,
      "outputs": [
        {
          "output_type": "execute_result",
          "data": {
            "text/plain": [
              "False"
            ]
          },
          "metadata": {},
          "execution_count": 59
        }
      ]
    },
    {
      "cell_type": "code",
      "source": [
        "x = 1\n",
        "y = 2\n",
        "\n",
        "temp = x\n",
        "x = y\n",
        "y = temp\n",
        "\n",
        "print('The value of x after swapping: {}'.format(x))\n",
        "print('The value of y after swapping: {}'.format(y))"
      ],
      "metadata": {
        "colab": {
          "base_uri": "https://localhost:8080/"
        },
        "id": "NaFOqYIeufAY",
        "outputId": "4978c8e1-70a2-475b-f57b-4cb18800f980"
      },
      "execution_count": 60,
      "outputs": [
        {
          "output_type": "stream",
          "name": "stdout",
          "text": [
            "The value of x after swapping: 2\n",
            "The value of y after swapping: 1\n"
          ]
        }
      ]
    },
    {
      "cell_type": "code",
      "source": [
        "for count in range(0,10,2):\n",
        "  print (count)"
      ],
      "metadata": {
        "colab": {
          "base_uri": "https://localhost:8080/"
        },
        "id": "-J4rb8MevaJ2",
        "outputId": "cb0d828e-bb65-47a4-99af-6bc22efc9683"
      },
      "execution_count": 61,
      "outputs": [
        {
          "output_type": "stream",
          "name": "stdout",
          "text": [
            "0\n",
            "2\n",
            "4\n",
            "6\n",
            "8\n"
          ]
        }
      ]
    },
    {
      "cell_type": "code",
      "source": [
        "i = 5\n",
        "n = 10\n",
        "\n",
        "while i>=n and i<20:\n",
        "  print(i)\n",
        "  i = i+1\n",
        "  print(i)"
      ],
      "metadata": {
        "id": "mFc-7T-bxJIv"
      },
      "execution_count": 70,
      "outputs": []
    },
    {
      "cell_type": "code",
      "source": [
        "number = int(input(\"write a number: \"))\n",
        "\n",
        "if number == 1:\n",
        "    print(number, \"is not a prime number\")\n",
        "elif number > 1:\n",
        "   for i in range(2,number):\n",
        "       if (number % i) == 0:\n",
        "           print(number,\"is not a prime number\")\n",
        "           print(i,\"times\",number//i,\"is\",number)\n",
        "           break\n",
        "   else:\n",
        "       print(number,\"is a prime number\")\n",
        "\n",
        "else:\n",
        "   print(number,\"is not a prime number\")"
      ],
      "metadata": {
        "colab": {
          "base_uri": "https://localhost:8080/"
        },
        "id": "ma8BRaYwvgEf",
        "outputId": "aa3fe8ab-0cef-4f11-8be2-f6a3f07bffd0"
      },
      "execution_count": 65,
      "outputs": [
        {
          "output_type": "stream",
          "name": "stdout",
          "text": [
            "write a number: 12\n",
            "12 is not a prime number\n",
            "2 times 6 is 12\n"
          ]
        }
      ]
    },
    {
      "cell_type": "code",
      "source": [
        "sumTotal = 0\n",
        "\n",
        "number = int(input(\"Enter a number: \"))\n",
        "\n",
        "while number !=0:\n",
        "    sumTotal += number\n",
        "    number = int(input(\"Enter a number: \"))\n",
        "\n",
        "print('total =', sumTotal)"
      ],
      "metadata": {
        "colab": {
          "base_uri": "https://localhost:8080/"
        },
        "id": "jO9sisRVxnUb",
        "outputId": "f9b00e1b-375e-4e89-a805-6a944af4a70c"
      },
      "execution_count": 72,
      "outputs": [
        {
          "output_type": "stream",
          "name": "stdout",
          "text": [
            "Enter a number: 10\n",
            "Enter a number: 20\n",
            "Enter a number: 30\n",
            "Enter a number: 0\n",
            "total = 60\n"
          ]
        }
      ]
    }
  ]
}