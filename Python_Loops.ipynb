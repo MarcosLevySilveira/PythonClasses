{
  "nbformat": 4,
  "nbformat_minor": 0,
  "metadata": {
    "colab": {
      "provenance": [],
      "authorship_tag": "ABX9TyONuiy4zcordsR6rCXYP6pz",
      "include_colab_link": true
    },
    "kernelspec": {
      "name": "python3",
      "display_name": "Python 3"
    },
    "language_info": {
      "name": "python"
    }
  },
  "cells": [
    {
      "cell_type": "markdown",
      "metadata": {
        "id": "view-in-github",
        "colab_type": "text"
      },
      "source": [
        "<a href=\"https://colab.research.google.com/github/MarcosLevySilveira/PythonClasses/blob/main/Python_Loops.ipynb\" target=\"_parent\"><img src=\"https://colab.research.google.com/assets/colab-badge.svg\" alt=\"Open In Colab\"/></a>"
      ]
    },
    {
      "cell_type": "code",
      "execution_count": null,
      "metadata": {
        "colab": {
          "base_uri": "https://localhost:8080/"
        },
        "id": "KReqC5mZUjnZ",
        "outputId": "257ffa2e-633d-4785-8fc5-99742bc63a75"
      },
      "outputs": [
        {
          "output_type": "stream",
          "name": "stdout",
          "text": [
            "0\n",
            "1\n",
            "2\n",
            "3\n"
          ]
        }
      ],
      "source": [
        "for count in range(4):\n",
        "  print (count)"
      ]
    },
    {
      "cell_type": "code",
      "source": [
        "range(1,4)"
      ],
      "metadata": {
        "colab": {
          "base_uri": "https://localhost:8080/"
        },
        "id": "2GYCjo82XsaJ",
        "outputId": "ccc5d586-1bb5-4758-a5a6-12d781d01868"
      },
      "execution_count": null,
      "outputs": [
        {
          "output_type": "execute_result",
          "data": {
            "text/plain": [
              "range(1, 4)"
            ]
          },
          "metadata": {},
          "execution_count": 4
        }
      ]
    },
    {
      "cell_type": "code",
      "source": [
        "range(2,10,2)"
      ],
      "metadata": {
        "colab": {
          "base_uri": "https://localhost:8080/"
        },
        "id": "Fe91xCskXvc8",
        "outputId": "a121ca97-1865-4899-fdf8-d4bbb873397d"
      },
      "execution_count": null,
      "outputs": [
        {
          "output_type": "execute_result",
          "data": {
            "text/plain": [
              "range(2, 10, 2)"
            ]
          },
          "metadata": {},
          "execution_count": 5
        }
      ]
    },
    {
      "cell_type": "code",
      "source": [
        "for count in range(2,10,2):\n",
        "  print (count)"
      ],
      "metadata": {
        "colab": {
          "base_uri": "https://localhost:8080/"
        },
        "id": "5xp0gUezYNo-",
        "outputId": "8ecb3aa7-b530-4948-99db-143a72235e29"
      },
      "execution_count": null,
      "outputs": [
        {
          "output_type": "stream",
          "name": "stdout",
          "text": [
            "2\n",
            "4\n",
            "6\n",
            "8\n"
          ]
        }
      ]
    },
    {
      "cell_type": "code",
      "source": [
        "for count in range(10,0,-1):\n",
        "  print (count)"
      ],
      "metadata": {
        "colab": {
          "base_uri": "https://localhost:8080/"
        },
        "id": "ibHflsycYUbS",
        "outputId": "d01159ba-ca5b-456f-8d92-b0c0ea6467e5"
      },
      "execution_count": null,
      "outputs": [
        {
          "output_type": "stream",
          "name": "stdout",
          "text": [
            "10\n",
            "9\n",
            "8\n",
            "7\n",
            "6\n",
            "5\n",
            "4\n",
            "3\n",
            "2\n",
            "1\n"
          ]
        }
      ]
    },
    {
      "cell_type": "code",
      "source": [
        "for letter in \"Hello!\":\n",
        "  print(letter,end = \" \")"
      ],
      "metadata": {
        "colab": {
          "base_uri": "https://localhost:8080/"
        },
        "id": "DbBkZrE9aYOa",
        "outputId": "ab5e159e-4fc1-4616-e1d0-03f3714df1a0"
      },
      "execution_count": null,
      "outputs": [
        {
          "output_type": "stream",
          "name": "stdout",
          "text": [
            "H e l l o ! "
          ]
        }
      ]
    },
    {
      "cell_type": "code",
      "source": [
        "for count in range (1,30,2):\n",
        "  print (count)"
      ],
      "metadata": {
        "colab": {
          "base_uri": "https://localhost:8080/"
        },
        "id": "LGuOeBwWbJKi",
        "outputId": "7ee226eb-6a26-481f-9f10-39a3a18f0b43"
      },
      "execution_count": null,
      "outputs": [
        {
          "output_type": "stream",
          "name": "stdout",
          "text": [
            "1\n",
            "3\n",
            "5\n",
            "7\n",
            "9\n",
            "11\n",
            "13\n",
            "15\n",
            "17\n",
            "19\n",
            "21\n",
            "23\n",
            "25\n",
            "27\n",
            "29\n"
          ]
        }
      ]
    },
    {
      "cell_type": "code",
      "source": [
        "for count in range (0,10,2):\n",
        "  print (count)"
      ],
      "metadata": {
        "colab": {
          "base_uri": "https://localhost:8080/"
        },
        "id": "Q_gEt3bdbV0c",
        "outputId": "70468362-35ae-4d03-f621-836d34cd0ede"
      },
      "execution_count": null,
      "outputs": [
        {
          "output_type": "stream",
          "name": "stdout",
          "text": [
            "0\n",
            "2\n",
            "4\n",
            "6\n",
            "8\n"
          ]
        }
      ]
    },
    {
      "cell_type": "code",
      "source": [
        "number = 10\n",
        "if number>0:\n",
        "  print('number is positive')\n",
        "\n",
        "print('the if statement is easy')"
      ],
      "metadata": {
        "colab": {
          "base_uri": "https://localhost:8080/"
        },
        "id": "7pN2vO3ygI3P",
        "outputId": "92e71e39-8b45-44bb-f81b-6b0529709ac8"
      },
      "execution_count": null,
      "outputs": [
        {
          "output_type": "stream",
          "name": "stdout",
          "text": [
            "number is positive\n",
            "the if statement is easy\n"
          ]
        }
      ]
    },
    {
      "cell_type": "code",
      "source": [
        "number = -10\n",
        "if number<0:\n",
        "  print('number is negative')"
      ],
      "metadata": {
        "colab": {
          "base_uri": "https://localhost:8080/"
        },
        "id": "AvfkE4Igg5JX",
        "outputId": "dec40223-1818-41ef-859c-97d7a61b6bf9"
      },
      "execution_count": null,
      "outputs": [
        {
          "output_type": "stream",
          "name": "stdout",
          "text": [
            "number is negative\n"
          ]
        }
      ]
    },
    {
      "cell_type": "code",
      "source": [
        "number = 5\n",
        "if number>0:\n",
        "  print('number is positive')\n",
        "else:\n",
        "  print('it is a negative number')"
      ],
      "metadata": {
        "colab": {
          "base_uri": "https://localhost:8080/"
        },
        "id": "pS-b0WhahexL",
        "outputId": "618f8e46-a0c5-4a4a-d398-798c91bd43b7"
      },
      "execution_count": null,
      "outputs": [
        {
          "output_type": "stream",
          "name": "stdout",
          "text": [
            "number is positive\n"
          ]
        }
      ]
    },
    {
      "cell_type": "code",
      "source": [
        "number = 0\n",
        "\n",
        "if number > 0:\n",
        "  print ('positive number')\n",
        "\n",
        "elif number == 0:\n",
        "  print('zero')\n",
        "else:\n",
        "  print('negative number')"
      ],
      "metadata": {
        "colab": {
          "base_uri": "https://localhost:8080/"
        },
        "id": "u-KFy-H4h86U",
        "outputId": "03a18393-5ced-4675-a76c-93aebc21a676"
      },
      "execution_count": null,
      "outputs": [
        {
          "output_type": "stream",
          "name": "stdout",
          "text": [
            "zero\n"
          ]
        }
      ]
    },
    {
      "cell_type": "code",
      "source": [
        "number = int(input(\"Enter numeric grade: \"))\n",
        "if number > 89:\n",
        "  letter = 'A'\n",
        "elif number >79:\n",
        "  letter = 'B'\n",
        "elif number > 69:\n",
        "  letter = 'C'\n",
        "else:\n",
        "  letter = 'F'\n",
        "print (\"The letter grade is\", letter)"
      ],
      "metadata": {
        "colab": {
          "base_uri": "https://localhost:8080/"
        },
        "id": "gQ1JFVnFja_T",
        "outputId": "4ca6f8b4-ab4b-406e-baf4-c7690dc7d6e3"
      },
      "execution_count": 26,
      "outputs": [
        {
          "output_type": "stream",
          "name": "stdout",
          "text": [
            "Enter numeric grade: 50\n",
            "The letter grade is F\n"
          ]
        }
      ]
    }
  ]
}