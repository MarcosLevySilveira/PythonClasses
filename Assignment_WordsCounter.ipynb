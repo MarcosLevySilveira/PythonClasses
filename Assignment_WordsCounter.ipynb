{
  "nbformat": 4,
  "nbformat_minor": 0,
  "metadata": {
    "colab": {
      "provenance": [],
      "authorship_tag": "ABX9TyMAaGO7u21iEGMxzOcrntNp",
      "include_colab_link": true
    },
    "kernelspec": {
      "name": "python3",
      "display_name": "Python 3"
    },
    "language_info": {
      "name": "python"
    }
  },
  "cells": [
    {
      "cell_type": "markdown",
      "metadata": {
        "id": "view-in-github",
        "colab_type": "text"
      },
      "source": [
        "<a href=\"https://colab.research.google.com/github/MarcosLevySilveira/PythonClasses/blob/main/Assignment_WordsCounter.ipynb\" target=\"_parent\"><img src=\"https://colab.research.google.com/assets/colab-badge.svg\" alt=\"Open In Colab\"/></a>"
      ]
    },
    {
      "cell_type": "code",
      "source": [
        "# Open the file in read mode\n",
        "text = open(\"sample.txt\", \"r\")\n",
        "\n",
        "# Create an empty dictionary\n",
        "dictionary = dict()\n",
        "\n",
        "# Loop through each line of the file\n",
        "for eachline in text:\n",
        "    # Function to remove the leading spaces and newline character from the file\n",
        "    eachline = eachline.strip()\n",
        "\n",
        "    # Convert the characters in the line to lowercase to avoid case mismatch\n",
        "    eachline = eachline.lower()\n",
        "\n",
        "    # Split the line into words\n",
        "    words = eachline.split(\" \")\n",
        "\n",
        "    # Iterate over each word in the line\n",
        "    for word in words:\n",
        "        # Check if the word is already in the dictionary\n",
        "        if word in dictionary:\n",
        "            # Increment count of the word by 1\n",
        "            dictionary[word] = dictionary[word] + 1\n",
        "        else:\n",
        "            # Add the word to the dictionary with count 1\n",
        "            dictionary[word] = 1\n",
        "\n",
        "# Sort the dictionary by word frequency in descending order\n",
        "sorted_dictionary = {k: v for k, v in sorted(dictionary.items(), key=lambda item: item[1], reverse=True)}\n",
        "\n",
        "# Open a new file to save the report\n",
        "report_file = open(\"wordsFrequency_report.txt\", \"w\")\n",
        "\n",
        "for key, value in sorted_dictionary.items():\n",
        "    # Write the results to the report file\n",
        "    report_file.write(f\"{key}: {value}\\n\")\n",
        "\n",
        "# Close the report file\n",
        "report_file.close()"
      ],
      "metadata": {
        "id": "QDbyfBpAj1Fl"
      },
      "execution_count": 11,
      "outputs": []
    }
  ]
}